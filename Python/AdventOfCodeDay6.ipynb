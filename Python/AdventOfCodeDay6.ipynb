{
 "cells": [
  {
   "cell_type": "markdown",
   "metadata": {},
   "source": [
    "http://adventofcode.com/2017/day/6"
   ]
  },
  {
   "cell_type": "code",
   "execution_count": 590,
   "metadata": {
    "collapsed": true
   },
   "outputs": [],
   "source": [
    "from collections import Counter"
   ]
  },
  {
   "cell_type": "code",
   "execution_count": 591,
   "metadata": {
    "collapsed": true
   },
   "outputs": [],
   "source": [
    "def format_bank(input_bank):\n",
    "    return tuple(map(int, input_bank.split(\"\\t\")))"
   ]
  },
  {
   "cell_type": "code",
   "execution_count": 592,
   "metadata": {
    "collapsed": true
   },
   "outputs": [],
   "source": [
    "def increment_index(index, length):\n",
    "    if index >= length - 1:\n",
    "        return 0\n",
    "    return index + 1"
   ]
  },
  {
   "cell_type": "code",
   "execution_count": 593,
   "metadata": {
    "collapsed": true
   },
   "outputs": [],
   "source": [
    "def set_index_tuple(data, index, value):\n",
    "    data_list = list(data)\n",
    "    data_list[index] = value\n",
    "    return tuple(data_list)"
   ]
  },
  {
   "cell_type": "code",
   "execution_count": 594,
   "metadata": {},
   "outputs": [],
   "source": [
    "def solve(banks, times):\n",
    "    mem = {}\n",
    "    steps = 1\n",
    "    while times not in map(lambda x: x[0], mem.values()):        \n",
    "        maximum = max(banks)\n",
    "        index_maximum = banks.index(maximum)\n",
    "        banks = set_index_tuple(banks, index_maximum, 0)\n",
    "        while maximum:\n",
    "            index_maximum = increment_index(index_maximum, len(banks))\n",
    "            banks = set_index_tuple(banks, index_maximum, banks[index_maximum] + 1)\n",
    "            maximum -= 1\n",
    "        steps += 1\n",
    "        if banks in mem.keys():\n",
    "            # mem[banks] = (mem[banks][0] + 1, steps - mem[banks][1])\n",
    "            mem[banks] = (mem[banks][0] + 1, steps)\n",
    "        else:\n",
    "            mem[banks] = (0, steps)\n",
    "    return mem[banks][1] - 1\n",
    "    # return mem[banks][1]"
   ]
  },
  {
   "cell_type": "code",
   "execution_count": 595,
   "metadata": {},
   "outputs": [],
   "source": [
    "def test1():\n",
    "    result = solve(format_bank(\"0\\t2\\t7\\t0\"), 1)\n",
    "    assert result == 5, f\"0 2 7 0 should return 5 and is returning {result}.\""
   ]
  },
  {
   "cell_type": "code",
   "execution_count": 596,
   "metadata": {
    "collapsed": true
   },
   "outputs": [],
   "source": [
    "def problem1(path):\n",
    "    return solve(format_bank(open(path).read()), 1)"
   ]
  },
  {
   "cell_type": "code",
   "execution_count": 597,
   "metadata": {
    "collapsed": true
   },
   "outputs": [],
   "source": [
    "def test2():\n",
    "    result = solve(format_bank(\"0\\t2\\t7\\t0\"), 1)\n",
    "    assert result == 4, f\"0 2 7 0 should return 4 and is returning {result}.\""
   ]
  },
  {
   "cell_type": "code",
   "execution_count": 598,
   "metadata": {
    "collapsed": true
   },
   "outputs": [],
   "source": [
    "def problem2(path):\n",
    "    return solve(format_bank(open(path).read()), 1)"
   ]
  },
  {
   "cell_type": "code",
   "execution_count": 599,
   "metadata": {},
   "outputs": [
    {
     "name": "stdout",
     "output_type": "stream",
     "text": [
      "5042\n"
     ]
    }
   ],
   "source": [
    "# test1()\n",
    "# print(problem1(\"/Users/danielalbarral/Programing/advent_of_code_17/inputs/day6.txt\"))\n",
    "test2()\n",
    "print(problem2(\"/Users/danielalbarral/Programing/advent_of_code_17/inputs/day6.txt\"))"
   ]
  }
 ],
 "metadata": {
  "kernelspec": {
   "display_name": "Python 3",
   "language": "python",
   "name": "python3"
  },
  "language_info": {
   "codemirror_mode": {
    "name": "ipython",
    "version": 3
   },
   "file_extension": ".py",
   "mimetype": "text/x-python",
   "name": "python",
   "nbconvert_exporter": "python",
   "pygments_lexer": "ipython3",
   "version": "3.6.0"
  }
 },
 "nbformat": 4,
 "nbformat_minor": 2
}
