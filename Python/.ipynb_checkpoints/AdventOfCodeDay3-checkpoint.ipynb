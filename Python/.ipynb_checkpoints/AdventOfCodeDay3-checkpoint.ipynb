{
 "cells": [
  {
   "cell_type": "markdown",
   "metadata": {},
   "source": [
    "http://adventofcode.com/2017/day/3"
   ]
  },
  {
   "cell_type": "code",
   "execution_count": 1,
   "metadata": {
    "collapsed": true
   },
   "outputs": [],
   "source": [
    "from itertools import dropwhile, islice\n",
    "from collections import Counter"
   ]
  },
  {
   "cell_type": "code",
   "execution_count": 2,
   "metadata": {
    "collapsed": true
   },
   "outputs": [],
   "source": [
    "def spiral():\n",
    "    x = y = 0\n",
    "    dx = 0\n",
    "    dy = -1\n",
    "    while True:\n",
    "        yield (x, y)\n",
    "        if x == y or (x < 0 and x == -y) or (x > 0 and x == 1 - y):\n",
    "            dx, dy = -dy, dx\n",
    "        x, y = x + dx, y + dy"
   ]
  },
  {
   "cell_type": "code",
   "execution_count": 3,
   "metadata": {
    "collapsed": true
   },
   "outputs": [],
   "source": [
    "def problem1(number):\n",
    "    result = list(islice(\n",
    "        dropwhile(\n",
    "            lambda y: y[0] + 1 != number,\n",
    "            enumerate(spiral())\n",
    "        ),\n",
    "        0, 1, 1\n",
    "    ))\n",
    "    return abs(result[0][1][0]) + abs(result[0][1][1])"
   ]
  }
 ],
 "metadata": {
  "kernelspec": {
   "display_name": "Python 3",
   "language": "python",
   "name": "python3"
  },
  "language_info": {
   "codemirror_mode": {
    "name": "ipython",
    "version": 3
   },
   "file_extension": ".py",
   "mimetype": "text/x-python",
   "name": "python",
   "nbconvert_exporter": "python",
   "pygments_lexer": "ipython3",
   "version": "3.6.0"
  }
 },
 "nbformat": 4,
 "nbformat_minor": 2
}
