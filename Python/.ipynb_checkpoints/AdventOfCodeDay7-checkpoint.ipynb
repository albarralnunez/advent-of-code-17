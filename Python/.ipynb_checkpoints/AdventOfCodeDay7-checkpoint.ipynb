{
 "cells": [
  {
   "cell_type": "markdown",
   "metadata": {},
   "source": [
    "http://adventofcode.com/2017/day/7"
   ]
  },
  {
   "cell_type": "code",
   "execution_count": 1791,
   "metadata": {
    "collapsed": true
   },
   "outputs": [],
   "source": [
    "from typing import List\n",
    "from collections import Counter\n",
    "import re"
   ]
  },
  {
   "cell_type": "code",
   "execution_count": 1792,
   "metadata": {
    "collapsed": true
   },
   "outputs": [],
   "source": [
    "import re\n",
    "line_regex = re.compile(r'(\\w.*) \\((\\d.*)\\)(?: (?:-> ( ?\\w.*)))?')"
   ]
  },
  {
   "cell_type": "code",
   "execution_count": 1793,
   "metadata": {
    "collapsed": true
   },
   "outputs": [],
   "source": [
    "class Node:\n",
    "    def __init__(self, size: int, word: str, childs: List['Node']):\n",
    "        self.size = int(size)\n",
    "        self.word = word\n",
    "        self.childs = childs"
   ]
  },
  {
   "cell_type": "code",
   "execution_count": 1794,
   "metadata": {
    "collapsed": true
   },
   "outputs": [],
   "source": [
    "def count_all_childs(tree: Node) -> int:\n",
    "    for child in tree.childs:\n",
    "        return count_all_childs(tree) + count_all_childs(child)\n",
    "    return 1"
   ]
  },
  {
   "cell_type": "code",
   "execution_count": 1795,
   "metadata": {
    "collapsed": true
   },
   "outputs": [],
   "source": [
    "def tree_repr(tree: Node) -> str:\n",
    "    childs = list(map(tree_repr, tree.childs))\n",
    "    return f\"{tree.word}({tree.size}): {childs}\""
   ]
  },
  {
   "cell_type": "code",
   "execution_count": 1894,
   "metadata": {
    "collapsed": true
   },
   "outputs": [],
   "source": [
    "def balance(tree: Node) -> int:\n",
    "    childs_sizes = [(balance(child)+child.size, child.size) for child in tree.childs]\n",
    "    ref_dict = {a:b for (a, b) in childs_sizes}\n",
    "    with_counters = Counter(childs_size[0] for childs_size in childs_sizes)\n",
    "    if len(with_counters) > 1:\n",
    "        lower = min(with_counters.items(), key=lambda x: x[1])\n",
    "        maximum = max(with_counters.items(), key=lambda x: x[1])\n",
    "        xs = lower[0]-maximum[0]\n",
    "        xy = ref_dict[lower[0]]\n",
    "        print(xy-xs)\n",
    "    return sum([size[0] for size in childs_sizes])"
   ]
  },
  {
   "cell_type": "code",
   "execution_count": 1895,
   "metadata": {},
   "outputs": [
    {
     "name": "stdout",
     "output_type": "stream",
     "text": [
      "60\n"
     ]
    }
   ],
   "source": [
    "cnt_items = Counter([1,1,1,2]).items()\n",
    "result_test2 = problem2(\"/Users/danielalbarral/Programing/advent_of_code_17/inputs/day7_t.txt\")"
   ]
  },
  {
   "cell_type": "code",
   "execution_count": 1896,
   "metadata": {
    "collapsed": true
   },
   "outputs": [],
   "source": [
    "def format_input(path: str):\n",
    "    transformed_lines = map(\n",
    "        lambda line: line_regex.findall(line)[0],\n",
    "        open(path,'r').readlines()\n",
    "    )\n",
    "    return {\n",
    "        word: (size, [word.strip() for word in childs.split(',') if word != ''])\n",
    "        for word, size, childs\n",
    "        in transformed_lines\n",
    "    }"
   ]
  },
  {
   "cell_type": "code",
   "execution_count": 1897,
   "metadata": {
    "collapsed": true
   },
   "outputs": [],
   "source": [
    "def build(root, inputs) -> Node:\n",
    "    (size, childs) = inputs[root]\n",
    "    node_childs = map(\n",
    "        lambda child: build(child, inputs), \n",
    "        childs\n",
    "    )\n",
    "    return Node(word=root, size=size, childs=node_childs)"
   ]
  },
  {
   "cell_type": "code",
   "execution_count": 1898,
   "metadata": {
    "collapsed": true
   },
   "outputs": [],
   "source": [
    "def generate_all_trees_with_childs_number(inputs):\n",
    "    all_trees = (build(name, inputs) for name in inputs.keys())\n",
    "    return ((tree.word, count_all_childs(tree)) for tree in all_trees)"
   ]
  },
  {
   "cell_type": "code",
   "execution_count": 1899,
   "metadata": {
    "collapsed": true
   },
   "outputs": [],
   "source": [
    "def problem1(path: str):\n",
    "    inputs = format_input(path)\n",
    "    # Generate all posible tree for each element, the one with more childs is the result\n",
    "    (result, _) = max(generate_all_trees_with_childs_number(inputs), key=lambda x: x[1])\n",
    "    return result"
   ]
  },
  {
   "cell_type": "code",
   "execution_count": 1900,
   "metadata": {
    "collapsed": true
   },
   "outputs": [],
   "source": [
    "def problem2(path: str):\n",
    "    inputs = format_input(path)\n",
    "    tree = build(problem1(path), inputs)\n",
    "    return balance(tree)"
   ]
  },
  {
   "cell_type": "code",
   "execution_count": 1902,
   "metadata": {
    "scrolled": true
   },
   "outputs": [
    {
     "name": "stdout",
     "output_type": "stream",
     "text": [
      "## PROBLEM 1 ##\n",
      "fbgguv\n",
      "## PROBLEM 2 ##\n",
      "1864\n",
      "72\n",
      "57\n",
      "537767\n"
     ]
    }
   ],
   "source": [
    "print(\"## PROBLEM 1 ##\")\n",
    "result_test1 = problem1(\"../inputs/day7_t.txt\")\n",
    "assert result_test1 == \"tknk\", f\"The result should be tknk, instead is {result_test1}\"\n",
    "print(problem1(\"../inputs/day7.txt\"))\n",
    "print(\"## PROBLEM 2 ##\")\n",
    "#result_test2 = problem2(\"/Users/danielalbarral/Programing/advent_of_code_17/inputs/day7_t.txt\")\n",
    "#assert result_test2 == 60, f\"The result should be 60, instead is {result_test2}\"\n",
    "print(problem2(\"../inputs/day7.txt\"))"
   ]
  }
 ],
 "metadata": {
  "kernelspec": {
   "display_name": "Python 3",
   "language": "python",
   "name": "python3"
  },
  "language_info": {
   "codemirror_mode": {
    "name": "ipython",
    "version": 3
   },
   "file_extension": ".py",
   "mimetype": "text/x-python",
   "name": "python",
   "nbconvert_exporter": "python",
   "pygments_lexer": "ipython3",
   "version": "3.6.0"
  }
 },
 "nbformat": 4,
 "nbformat_minor": 2
}
