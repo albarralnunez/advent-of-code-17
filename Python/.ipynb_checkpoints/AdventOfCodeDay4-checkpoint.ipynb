{
 "cells": [
  {
   "cell_type": "markdown",
   "metadata": {},
   "source": [
    "http://adventofcode.com/2017/day/4"
   ]
  },
  {
   "cell_type": "code",
   "execution_count": 1,
   "metadata": {
    "collapsed": true
   },
   "outputs": [],
   "source": [
    "from collections import Counter"
   ]
  },
  {
   "cell_type": "code",
   "execution_count": 2,
   "metadata": {
    "collapsed": true
   },
   "outputs": [],
   "source": [
    "def counter_tuple(iterable):\n",
    "    return tuple(sorted(list(Counter(iterable).items())))"
   ]
  },
  {
   "cell_type": "code",
   "execution_count": 3,
   "metadata": {
    "collapsed": true
   },
   "outputs": [],
   "source": [
    "def count_letters_of_words_passphrase(passphrase_list):\n",
    "    return list(map(counter_tuple, passphrase_list))"
   ]
  },
  {
   "cell_type": "code",
   "execution_count": 4,
   "metadata": {
    "collapsed": true
   },
   "outputs": [],
   "source": [
    "def is_valid_2(passphrase):\n",
    "    passphrase_list = passphrase.split()\n",
    "    counted_words_passphrase = count_letters_of_words_passphrase(passphrase_list)\n",
    "    with_rep = counted_words_passphrase\n",
    "    with_out_rep = list(set(counted_words_passphrase))\n",
    "    return len(with_rep) == len(with_out_rep)"
   ]
  },
  {
   "cell_type": "code",
   "execution_count": 5,
   "metadata": {
    "collapsed": true
   },
   "outputs": [],
   "source": [
    "assert is_valid_2(\"abcde fghij\") == True\n",
    "assert is_valid_2(\"abcde xyz ecdab\") == False\n",
    "assert is_valid_2(\"a ab abc abd abf abj\") == True\n",
    "assert is_valid_2(\"iiii oiii ooii oooi oooo\") == True\n",
    "assert is_valid_2(\"oiii ioii iioi iiio\") == False"
   ]
  },
  {
   "cell_type": "code",
   "execution_count": 6,
   "metadata": {
    "collapsed": true
   },
   "outputs": [],
   "source": [
    "def is_valid_1(passphrase):\n",
    "    passphrase_list = passphrase.split()\n",
    "    with_rep = sorted(passphrase_list)\n",
    "    with_out_rep = sorted(list(set(passphrase_list)))\n",
    "    return len(with_rep) == len(with_out_rep)"
   ]
  },
  {
   "cell_type": "code",
   "execution_count": 7,
   "metadata": {
    "collapsed": true
   },
   "outputs": [],
   "source": [
    "assert is_valid_1(\"aa bb cc dd ee\") == True\n",
    "assert is_valid_1(\"aa bb cc dd aa\") == False\n",
    "assert is_valid_1(\"aa bb cc dd aaa\") == True"
   ]
  },
  {
   "cell_type": "code",
   "execution_count": 8,
   "metadata": {
    "collapsed": true
   },
   "outputs": [],
   "source": [
    "def solver(path, validator):\n",
    "    passphrases = open(path).read().split(\"\\n\")\n",
    "    return list(map(validator, passphrases)).count(True) - 1"
   ]
  },
  {
   "cell_type": "code",
   "execution_count": 9,
   "metadata": {
    "collapsed": true
   },
   "outputs": [],
   "source": [
    "def problem1():\n",
    "    return solver(\"inputs/day4.txt\", is_valid_1)"
   ]
  },
  {
   "cell_type": "code",
   "execution_count": 10,
   "metadata": {
    "collapsed": true
   },
   "outputs": [],
   "source": [
    "def problem2():\n",
    "    return solver(\"inputs/day4.txt\", is_valid_2)"
   ]
  }
 ],
 "metadata": {
  "kernelspec": {
   "display_name": "Python 3",
   "language": "python",
   "name": "python3"
  },
  "language_info": {
   "codemirror_mode": {
    "name": "ipython",
    "version": 3
   },
   "file_extension": ".py",
   "mimetype": "text/x-python",
   "name": "python",
   "nbconvert_exporter": "python",
   "pygments_lexer": "ipython3",
   "version": "3.6.0"
  }
 },
 "nbformat": 4,
 "nbformat_minor": 2
}
